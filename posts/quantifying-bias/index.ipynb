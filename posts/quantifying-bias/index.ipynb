{
 "cells": [
  {
   "cell_type": "raw",
   "metadata": {
    "vscode": {
     "languageId": "raw"
    }
   },
   "source": [
    "---\n",
    "title: Limits of the Quantitative Approach to Bias and Fairness\n",
    "author: Eleanor Sterling\n",
    "date: '2025-03-25'\n",
    "image: \"\"\n",
    "description: \"\"\n",
    "format: html\n",
    "bibliography: refs.bib\n",
    "---"
   ]
  },
  {
   "cell_type": "markdown",
   "metadata": {},
   "source": [
    "#### Narayanan's Position\n",
    "As a quantitative researcher, Narayanan acknowledges in his speech that, although he is pointing out the flaws of quantitative methodology, he recognizes its importance in the world of research. Throughout his speech, he highlights several flaws in quantitating discrimination, most of which boil down to the fact that quantitative data does not tell the whole story. His perspective is that quanititative methods are just one piece of the puzzle. They are necessary, but they are not the only way to gain knowledge. Quantitative ways of measuring bias should be used in conjunction with other forms of measurement and auditing to ensure that all perspectives are observed and the fullest picture of the situation is found (@narayanan2022limits)."
   ]
  },
  {
   "cell_type": "markdown",
   "metadata": {},
   "source": [
    "#### Benefits of Quantifying Bias\n",
    "In @narayanan2022limits, he discusses how the ProPublica investigation into the COMPAS algorithm was successful in part because there as a quantifiable result that could \"definitively\" say whether or not the COMPAS algorithm was biased. Evidently, this succeeded, in part because they were able to quantify ways in which they could see evidence of bias. It then gained a lot of attention because of its success. Narayanan posits that if they had been searching in a more qualitative way, they would have gained less attention from their study and therefore would have reached a smaller audience. Essentially, humans are more likely to believe something if there is evidence for it, and quantitative evidence is sometimes prioritized over qualitative evidence (especially in the scientific community).\n",
    "\n"
   ]
  },
  {
   "cell_type": "markdown",
   "metadata": {},
   "source": [
    "#### Drawbacks of Quantifying Bias\n"
   ]
  },
  {
   "cell_type": "markdown",
   "metadata": {},
   "source": [
    "#### Discussion and Synthesis\n",
    "I generally agree with Narayanan's perspectives on quantitative methods. I think that they have their place, but also I think what is needed is a perspective shift--that quantitative methods are not always better/more informative than qualitative ones, and that we don't have to be able to simulate everything perfectly mathematically. While I recognize the benefits of quantitativeness,"
   ]
  },
  {
   "cell_type": "markdown",
   "metadata": {},
   "source": [
    "#### References"
   ]
  }
 ],
 "metadata": {
  "language_info": {
   "name": "python"
  }
 },
 "nbformat": 4,
 "nbformat_minor": 2
}
