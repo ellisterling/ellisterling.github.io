{
 "cells": [
  {
   "cell_type": "raw",
   "metadata": {
    "vscode": {
     "languageId": "raw"
    }
   },
   "source": [
    "---\n",
    "title: Limits of the Quantitative Approach to Bias and Fairness\n",
    "author: Eleanor Sterling\n",
    "date: '2025-03-25'\n",
    "image: \"\"\n",
    "description: \"\"\n",
    "format: html\n",
    "---"
   ]
  },
  {
   "cell_type": "markdown",
   "metadata": {},
   "source": [
    "#### Narayanan's Position\n",
    "\n",
    "As a quantitative researcher, Narayanan acknowledges in his speech that, although he is pointing out the flaws of quantitative methodology, he recognizes its importance in the world of research. Throughout his speech, he highlights several flaws in quantitating discrimination, most of which boil down to the fact that quantitative data does not tell the whole story. His perspective is that quanititative methods are just one piece of the puzzle. They are necessary, but they are not the only way to gain knowledge. Quantitative ways of measuring bias should be used in conjunction with other forms of measurement and auditing to ensure that all perspectives are observed and the fullest picture of the situation is found. \n",
    "@dignazioDataFeminism2023"
   ]
  },
  {
   "cell_type": "markdown",
   "metadata": {},
   "source": []
  }
 ],
 "metadata": {
  "language_info": {
   "name": "python"
  }
 },
 "nbformat": 4,
 "nbformat_minor": 2
}
