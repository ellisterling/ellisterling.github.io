{
 "cells": [
  {
   "cell_type": "raw",
   "metadata": {
    "vscode": {
     "languageId": "raw"
    }
   },
   "source": [
    "---\n",
    "title: Limits of the Quantitative Approach to Bias and Fairness\n",
    "author: Eleanor Sterling\n",
    "date: '2025-03-25'\n",
    "image: \"\"\n",
    "description: \"\"\n",
    "format: html\n",
    "bibliography: refs.bib\n",
    "---"
   ]
  },
  {
   "cell_type": "markdown",
   "metadata": {},
   "source": [
    "#### Narayanan's Position\n",
    "As a quantitative researcher, Narayanan acknowledges in his speech that, although he is pointing out the flaws of quantitative methodology, he recognizes its importance in the world of research. Throughout his speech, he highlights several flaws in quantitating discrimination, most of which boil down to the fact that quantitative data does not tell the whole story. His perspective is that quanititative methods are just one piece of the puzzle. They are necessary, but they are not the only way to gain knowledge. Quantitative ways of measuring bias should be used in conjunction with other forms of measurement and auditing to ensure that all perspectives are observed and the fullest picture of the situation is found (@narayanan2022limits)."
   ]
  },
  {
   "cell_type": "markdown",
   "metadata": {},
   "source": [
    "#### Benefits of Quantifying Bias\n",
    "In @narayanan2022limits, he discusses how the ProPublica investigation into the COMPAS algorithm was successful in part because there as a quantifiable result that could \"definitively\" say whether or not the COMPAS algorithm was biased. Evidently, this succeeded, in part because they were able to quantify ways in which they could see evidence of bias. It then gained a lot of attention because of its success. Narayanan posits that if they had been searching in a more qualitative way, they would have gained less attention from their study and therefore would have reached a smaller audience. Essentially, humans are more likely to believe something if there is evidence for it, and quantitative evidence is sometimes prioritized over qualitative evidence (especially in the scientific community).\n",
    "\n"
   ]
  },
  {
   "cell_type": "markdown",
   "metadata": {},
   "source": [
    "#### Drawbacks of Quantifying Bias\n"
   ]
  },
  {
   "cell_type": "markdown",
   "metadata": {},
   "source": [
    "As outlined by Narayanan:\n",
    "\n",
    "• Use of snapshot datasets\n",
    "\n",
    "• Use of data provided by company\n",
    "\n",
    "• Explaining away discrimination\n",
    "\n",
    "• Wrong locus of intervention\n",
    "\n",
    "• Objectivity illusion\n",
    "\n",
    "• Performativity\n",
    "\n",
    "Narayanan outlines several potential pitfalls of quantifying bias in his speech (@narayanan2022limits). The first one he outlines is the choice of null hypothesis. What reserachers choose as their \"null hypothesis\", or base assumption of neutrality, drastically affects whether or not we call something biased. Generally, researchers say that the null hypothesis is the absence of discrimination. This sets up studies to be biased from the start, since assuming that the base state is a lack of bias ignores the systemic bias that is present in many aspects of society. Narayanan brings up the example of diversity initiatives in schools and other programs--they focus on fixing the surface level problem without addressing the root cause (discrimination) because the base assumption is that academia is an unbiased field to begin with. He also discusses the bias that is inherently present in data, even more so when the data is provided by an institution with stakes in the investigation. This reminded me of how some fossil fuel companies have funded climate science so that they could control what results came out of the studies. \n"
   ]
  },
  {
   "cell_type": "markdown",
   "metadata": {},
   "source": [
    "#### Discussion and Synthesis\n",
    "I generally agree with Narayanan's perspectives on quantitative methods. I think that they have their place, but also I think what is needed is a perspective shift--that quantitative methods are not always better/more informative than qualitative ones, and that we don't have to be able to simulate everything perfectly mathematically. While I recognize the benefits of quantitativeness, I also believe that quantifying everything we see will usually create more problems than not."
   ]
  },
  {
   "cell_type": "markdown",
   "metadata": {},
   "source": [
    "#### References"
   ]
  }
 ],
 "metadata": {
  "language_info": {
   "name": "python"
  }
 },
 "nbformat": 4,
 "nbformat_minor": 2
}
