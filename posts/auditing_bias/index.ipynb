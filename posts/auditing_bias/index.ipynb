{
 "cells": [
  {
   "cell_type": "raw",
   "metadata": {
    "vscode": {
     "languageId": "raw"
    }
   },
   "source": [
    "---\n",
    "title: Design and Impact of Automated Decision Systems\n",
    "author: Eleanor Sterling\n",
    "date: '2025-02-27'\n",
    "image: \"creditcard.jpg\"\n",
    "description: \"Designing an algorithm to decide whether or not loan applicants should receive loans.\"\n",
    "format: html\n",
    "---"
   ]
  },
  {
   "cell_type": "markdown",
   "metadata": {},
   "source": [
    "### **Abstract**"
   ]
  },
  {
   "cell_type": "markdown",
   "metadata": {},
   "source": []
  }
 ],
 "metadata": {
  "language_info": {
   "name": "python"
  }
 },
 "nbformat": 4,
 "nbformat_minor": 2
}
