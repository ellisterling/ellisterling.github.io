{
 "cells": [
  {
   "cell_type": "raw",
   "id": "0ab53e2c",
   "metadata": {
    "vscode": {
     "languageId": "raw"
    }
   },
   "source": [
    "---\n",
    "title: Attempting to Predict ENSO Phases\n",
    "author: Eleanor Sterling\n",
    "date: '2025-05-12'\n",
    "image: \"\"\n",
    "description: \"\"\n",
    "format: html\n",
    "bibliography: refs.bib\n",
    "---"
   ]
  },
  {
   "cell_type": "markdown",
   "id": "92b188a7",
   "metadata": {},
   "source": [
    "### Abstract"
   ]
  },
  {
   "cell_type": "markdown",
   "id": "ae6d9a29",
   "metadata": {},
   "source": [
    "The source code for this project is located [here](https://github.com/ellisterling/enso-predictor)."
   ]
  },
  {
   "cell_type": "markdown",
   "id": "4d7b4841",
   "metadata": {},
   "source": [
    "### Introduction"
   ]
  },
  {
   "cell_type": "markdown",
   "id": "6cd32a42",
   "metadata": {},
   "source": [
    "In doing this project, I wanted to see if simple Logistic Regression could classify future El Nino stages 6 months in advance  based on current sea surface temperature variables."
   ]
  },
  {
   "cell_type": "markdown",
   "id": "1e4f46e5",
   "metadata": {},
   "source": [
    "### Values Statement"
   ]
  },
  {
   "cell_type": "markdown",
   "id": "f4ec174c",
   "metadata": {},
   "source": [
    "The potential users of this project, had it been more successful, would have been policymakers and communities who are generally more affected by El Nino/La Nina conditions. Additionally, scientists could use this model and improve it using climate modeling. Other than these users, people who could be affected by this project include people who live in areas that are heavily impacted by these events--a wrong prediction could be hazardous if communities prepare in one way and are unprepared for another. I think these are the same people who would benefit from this technology. Additionally, it would in theory be less computationally expensive than implementing a climate model and using those results to inform predictions, so it would have been helpful to scientists and others implementing climate prediction models had it worked. People who could be harmed include the previously mentioned groups since a wrong prediction would be very harmful. \n",
    "\n",
    "I wanted to work on this problem because, after reading about ENSO and learning about it in classes, I was interested to see if sea surface temperature (SST) alone (initially, along with precipitation) could predict future stages. I had learned a lot about climate modeling in some of my Earth and Climate Science classes, and wanted to see if I could implement algorithms from this class to predict ENSO events. I also just wanted to combine my ECSC knowledge with a project for CS!\n",
    "\n",
    "I do not think the world will be a necessarily more or less equitable, just, joyful, or sustainable place because of what I implented, mainly because it was not very successful in terms of what I was able to produce. I think that the main effect this technology will have will be on me, simply because now I know firsthand how it is very difficult to predict weather patterns, even well-defined ones."
   ]
  },
  {
   "cell_type": "markdown",
   "id": "206b82e8",
   "metadata": {},
   "source": [
    "### Materials and Methods"
   ]
  },
  {
   "cell_type": "markdown",
   "id": "c51ee90e",
   "metadata": {},
   "source": [
    "For the SST data, I used the Japan Meteorological Associaation's COBE-SST 2 dataset (@NOAAsst). COBE-SST 2 and Sea Ice data provided by the NOAA PSL, Boulder, Colorado, USA, from their website at https://psl.noaa.gov. This dataset goes back to 1850, but I had to just use the data since 1950 in order to match up with the data I used for the target vector. The target data was derived from the Oceanic Nino Index dataset, sourced from the NOAA NWS Climate Prediction Center (@ONI)."
   ]
  },
  {
   "cell_type": "markdown",
   "id": "fbf5357f",
   "metadata": {},
   "source": [
    "#### Data"
   ]
  },
  {
   "cell_type": "markdown",
   "id": "b790012c",
   "metadata": {},
   "source": [
    "#### Approach"
   ]
  },
  {
   "cell_type": "markdown",
   "id": "99f50281",
   "metadata": {},
   "source": [
    "### Results"
   ]
  },
  {
   "cell_type": "markdown",
   "id": "757b2e83",
   "metadata": {},
   "source": [
    "### Discussion"
   ]
  },
  {
   "cell_type": "markdown",
   "id": "62235a1d",
   "metadata": {},
   "source": [
    "### Group Contribution"
   ]
  },
  {
   "cell_type": "markdown",
   "id": "bf95fa0f",
   "metadata": {},
   "source": [
    "Because I was working on this project alone, I worked on all parts of the source code and completed all the work related to this project."
   ]
  },
  {
   "cell_type": "markdown",
   "id": "0c7b61ee",
   "metadata": {},
   "source": [
    "### Personal Reflection"
   ]
  },
  {
   "cell_type": "markdown",
   "id": "75407e48",
   "metadata": {},
   "source": []
  }
 ],
 "metadata": {
  "language_info": {
   "name": "python"
  }
 },
 "nbformat": 4,
 "nbformat_minor": 5
}
