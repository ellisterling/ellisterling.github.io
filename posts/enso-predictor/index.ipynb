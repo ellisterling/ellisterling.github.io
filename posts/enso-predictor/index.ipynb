{
 "cells": [
  {
   "cell_type": "raw",
   "id": "0ab53e2c",
   "metadata": {
    "vscode": {
     "languageId": "raw"
    }
   },
   "source": [
    "---\n",
    "title: Attempting to Predict ENSO Phases\n",
    "author: Eleanor Sterling\n",
    "date: '2025-05-12'\n",
    "image: \"\"\n",
    "description: \"\"\n",
    "format: html\n",
    "---"
   ]
  },
  {
   "cell_type": "markdown",
   "id": "92b188a7",
   "metadata": {},
   "source": [
    "### Abstract"
   ]
  },
  {
   "cell_type": "markdown",
   "id": "4d7b4841",
   "metadata": {},
   "source": [
    "### Introduction"
   ]
  },
  {
   "cell_type": "markdown",
   "id": "6cd32a42",
   "metadata": {},
   "source": [
    "In doing this project, I wanted to see if simple Logistic Regression could classify future El Nino stages 6 months in advance  based on current sea surface temperature variables."
   ]
  },
  {
   "cell_type": "markdown",
   "id": "1e4f46e5",
   "metadata": {},
   "source": [
    "### Values Statement"
   ]
  },
  {
   "cell_type": "markdown",
   "id": "206b82e8",
   "metadata": {},
   "source": [
    "### Materials and Methods"
   ]
  },
  {
   "cell_type": "markdown",
   "id": "fbf5357f",
   "metadata": {},
   "source": [
    "#### Data"
   ]
  },
  {
   "cell_type": "markdown",
   "id": "b790012c",
   "metadata": {},
   "source": [
    "#### Approach"
   ]
  },
  {
   "cell_type": "markdown",
   "id": "99f50281",
   "metadata": {},
   "source": [
    "### Results"
   ]
  },
  {
   "cell_type": "markdown",
   "id": "757b2e83",
   "metadata": {},
   "source": [
    "### Discussion"
   ]
  },
  {
   "cell_type": "markdown",
   "id": "62235a1d",
   "metadata": {},
   "source": [
    "### Group Contribution"
   ]
  },
  {
   "cell_type": "markdown",
   "id": "0c7b61ee",
   "metadata": {},
   "source": [
    "### Personal Reflection"
   ]
  },
  {
   "cell_type": "markdown",
   "id": "75407e48",
   "metadata": {},
   "source": []
  }
 ],
 "metadata": {
  "language_info": {
   "name": "python"
  }
 },
 "nbformat": 4,
 "nbformat_minor": 5
}
