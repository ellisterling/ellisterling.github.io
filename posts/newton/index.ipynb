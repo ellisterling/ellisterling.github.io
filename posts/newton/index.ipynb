{
 "cells": [
  {
   "cell_type": "raw",
   "id": "61dd3748",
   "metadata": {
    "vscode": {
     "languageId": "raw"
    }
   },
   "source": [
    "---\n",
    "title: Newtons Method and Adam\n",
    "author: Eleanor Sterling\n",
    "date: '2025-04-28'\n",
    "image: \"\"\n",
    "description: \"\"\n",
    "format: html\n",
    "---"
   ]
  },
  {
   "cell_type": "markdown",
   "id": "19c7088e",
   "metadata": {},
   "source": [
    "### Newton's Method Experiments"
   ]
  },
  {
   "cell_type": "markdown",
   "id": "9cd965a9",
   "metadata": {},
   "source": [
    "Loading in dataset--we are using a dataset where the target variable is whether a person likes mountains or beaches better, and the features are demagraphic data."
   ]
  },
  {
   "cell_type": "code",
   "execution_count": 8,
   "id": "997f8af5",
   "metadata": {},
   "outputs": [],
   "source": [
    "import pandas as pd\n",
    "import sklearn\n",
    "from sklearn.model_selection import train_test_split\n"
   ]
  },
  {
   "cell_type": "code",
   "execution_count": null,
   "id": "5f18c46b",
   "metadata": {},
   "outputs": [
    {
     "ename": "NameError",
     "evalue": "name 'Preference' is not defined",
     "output_type": "error",
     "traceback": [
      "\u001b[31m---------------------------------------------------------------------------\u001b[39m",
      "\u001b[31mNameError\u001b[39m                                 Traceback (most recent call last)",
      "\u001b[36mCell\u001b[39m\u001b[36m \u001b[39m\u001b[32mIn[15]\u001b[39m\u001b[32m, line 3\u001b[39m\n\u001b[32m      1\u001b[39m df = pd.read_csv(\u001b[33m\"\u001b[39m\u001b[33mdata/mountains_vs_beaches_preferences.csv\u001b[39m\u001b[33m\"\u001b[39m)\n\u001b[32m      2\u001b[39m y = df[\u001b[33m\"\u001b[39m\u001b[33mPreference\u001b[39m\u001b[33m\"\u001b[39m]\n\u001b[32m----> \u001b[39m\u001b[32m3\u001b[39m X = df.drop(Preference)\n",
      "\u001b[31mNameError\u001b[39m: name 'Preference' is not defined"
     ]
    }
   ],
   "source": [
    "df = pd.read_csv(\"data/mountains_vs_beaches_preferences.csv\")\n",
    "y = df[\"Preference\"]"
   ]
  },
  {
   "cell_type": "code",
   "execution_count": null,
   "id": "1001a85e",
   "metadata": {},
   "outputs": [],
   "source": []
  }
 ],
 "metadata": {
  "kernelspec": {
   "display_name": "csci0451",
   "language": "python",
   "name": "python3"
  },
  "language_info": {
   "codemirror_mode": {
    "name": "ipython",
    "version": 3
   },
   "file_extension": ".py",
   "mimetype": "text/x-python",
   "name": "python",
   "nbconvert_exporter": "python",
   "pygments_lexer": "ipython3",
   "version": "3.11.11"
  }
 },
 "nbformat": 4,
 "nbformat_minor": 5
}
